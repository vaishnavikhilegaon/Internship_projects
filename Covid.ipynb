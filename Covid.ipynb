{
 "cells": [
  {
   "cell_type": "code",
   "execution_count": 1,
   "id": "89e7efe5-02a2-4f64-9e25-42e324943109",
   "metadata": {},
   "outputs": [],
   "source": [
    "import pandas as pd\n",
    "import numpy as np\n",
    "import matplotlib.pyplot as plt\n",
    "import seaborn as sns\n"
   ]
  },
  {
   "cell_type": "code",
   "execution_count": 2,
   "id": "14ec5211-4b9c-409a-ab90-02e74fba9f50",
   "metadata": {},
   "outputs": [
    {
     "data": {
      "text/html": [
       "<div>\n",
       "<style scoped>\n",
       "    .dataframe tbody tr th:only-of-type {\n",
       "        vertical-align: middle;\n",
       "    }\n",
       "\n",
       "    .dataframe tbody tr th {\n",
       "        vertical-align: top;\n",
       "    }\n",
       "\n",
       "    .dataframe thead th {\n",
       "        text-align: right;\n",
       "    }\n",
       "</style>\n",
       "<table border=\"1\" class=\"dataframe\">\n",
       "  <thead>\n",
       "    <tr style=\"text-align: right;\">\n",
       "      <th></th>\n",
       "      <th>Rank</th>\n",
       "      <th>NCT Number</th>\n",
       "      <th>Title</th>\n",
       "      <th>Acronym</th>\n",
       "      <th>Status</th>\n",
       "      <th>Study Results</th>\n",
       "      <th>Conditions</th>\n",
       "      <th>Interventions</th>\n",
       "      <th>Outcome Measures</th>\n",
       "      <th>Sponsor/Collaborators</th>\n",
       "      <th>...</th>\n",
       "      <th>Other IDs</th>\n",
       "      <th>Start Date</th>\n",
       "      <th>Primary Completion Date</th>\n",
       "      <th>Completion Date</th>\n",
       "      <th>First Posted</th>\n",
       "      <th>Results First Posted</th>\n",
       "      <th>Last Update Posted</th>\n",
       "      <th>Locations</th>\n",
       "      <th>Study Documents</th>\n",
       "      <th>URL</th>\n",
       "    </tr>\n",
       "  </thead>\n",
       "  <tbody>\n",
       "    <tr>\n",
       "      <th>0</th>\n",
       "      <td>1</td>\n",
       "      <td>NCT04785898</td>\n",
       "      <td>Diagnostic Performance of the ID Now™ COVID-19...</td>\n",
       "      <td>COVID-IDNow</td>\n",
       "      <td>Active, not recruiting</td>\n",
       "      <td>No Results Available</td>\n",
       "      <td>Covid19</td>\n",
       "      <td>Diagnostic Test: ID Now™ COVID-19 Screening Test</td>\n",
       "      <td>Evaluate the diagnostic performance of the ID ...</td>\n",
       "      <td>Groupe Hospitalier Paris Saint Joseph</td>\n",
       "      <td>...</td>\n",
       "      <td>COVID-IDNow</td>\n",
       "      <td>November 9, 2020</td>\n",
       "      <td>December 22, 2020</td>\n",
       "      <td>April 30, 2021</td>\n",
       "      <td>March 8, 2021</td>\n",
       "      <td>NaN</td>\n",
       "      <td>March 8, 2021</td>\n",
       "      <td>Groupe Hospitalier Paris Saint-Joseph, Paris, ...</td>\n",
       "      <td>NaN</td>\n",
       "      <td>https://ClinicalTrials.gov/show/NCT04785898</td>\n",
       "    </tr>\n",
       "    <tr>\n",
       "      <th>1</th>\n",
       "      <td>2</td>\n",
       "      <td>NCT04595136</td>\n",
       "      <td>Study to Evaluate the Efficacy of COVID19-0001...</td>\n",
       "      <td>COVID-19</td>\n",
       "      <td>Not yet recruiting</td>\n",
       "      <td>No Results Available</td>\n",
       "      <td>SARS-CoV-2 Infection</td>\n",
       "      <td>Drug: Drug COVID19-0001-USR|Drug: normal saline</td>\n",
       "      <td>Change on viral load results from baseline aft...</td>\n",
       "      <td>United Medical Specialties</td>\n",
       "      <td>...</td>\n",
       "      <td>COVID19-0001-USR</td>\n",
       "      <td>November 2, 2020</td>\n",
       "      <td>December 15, 2020</td>\n",
       "      <td>January 29, 2021</td>\n",
       "      <td>October 20, 2020</td>\n",
       "      <td>NaN</td>\n",
       "      <td>October 20, 2020</td>\n",
       "      <td>Cimedical, Barranquilla, Atlantico, Colombia</td>\n",
       "      <td>NaN</td>\n",
       "      <td>https://ClinicalTrials.gov/show/NCT04595136</td>\n",
       "    </tr>\n",
       "    <tr>\n",
       "      <th>2</th>\n",
       "      <td>3</td>\n",
       "      <td>NCT04395482</td>\n",
       "      <td>Lung CT Scan Analysis of SARS-CoV2 Induced Lun...</td>\n",
       "      <td>TAC-COVID19</td>\n",
       "      <td>Recruiting</td>\n",
       "      <td>No Results Available</td>\n",
       "      <td>covid19</td>\n",
       "      <td>Other: Lung CT scan analysis in COVID-19 patients</td>\n",
       "      <td>A qualitative analysis of parenchymal lung dam...</td>\n",
       "      <td>University of Milano Bicocca</td>\n",
       "      <td>...</td>\n",
       "      <td>TAC-COVID19</td>\n",
       "      <td>May 7, 2020</td>\n",
       "      <td>June 15, 2021</td>\n",
       "      <td>June 15, 2021</td>\n",
       "      <td>May 20, 2020</td>\n",
       "      <td>NaN</td>\n",
       "      <td>November 9, 2020</td>\n",
       "      <td>Ospedale Papa Giovanni XXIII, Bergamo, Italy|P...</td>\n",
       "      <td>NaN</td>\n",
       "      <td>https://ClinicalTrials.gov/show/NCT04395482</td>\n",
       "    </tr>\n",
       "    <tr>\n",
       "      <th>3</th>\n",
       "      <td>4</td>\n",
       "      <td>NCT04416061</td>\n",
       "      <td>The Role of a Private Hospital in Hong Kong Am...</td>\n",
       "      <td>COVID-19</td>\n",
       "      <td>Active, not recruiting</td>\n",
       "      <td>No Results Available</td>\n",
       "      <td>COVID</td>\n",
       "      <td>Diagnostic Test: COVID 19 Diagnostic Test</td>\n",
       "      <td>Proportion of asymptomatic subjects|Proportion...</td>\n",
       "      <td>Hong Kong Sanatorium &amp; Hospital</td>\n",
       "      <td>...</td>\n",
       "      <td>RC-2020-08</td>\n",
       "      <td>May 25, 2020</td>\n",
       "      <td>July 31, 2020</td>\n",
       "      <td>August 31, 2020</td>\n",
       "      <td>June 4, 2020</td>\n",
       "      <td>NaN</td>\n",
       "      <td>June 4, 2020</td>\n",
       "      <td>Hong Kong Sanatorium &amp; Hospital, Hong Kong, Ho...</td>\n",
       "      <td>NaN</td>\n",
       "      <td>https://ClinicalTrials.gov/show/NCT04416061</td>\n",
       "    </tr>\n",
       "    <tr>\n",
       "      <th>4</th>\n",
       "      <td>5</td>\n",
       "      <td>NCT04395924</td>\n",
       "      <td>Maternal-foetal Transmission of SARS-Cov-2</td>\n",
       "      <td>TMF-COVID-19</td>\n",
       "      <td>Recruiting</td>\n",
       "      <td>No Results Available</td>\n",
       "      <td>Maternal Fetal Infection Transmission|COVID-19...</td>\n",
       "      <td>Diagnostic Test: Diagnosis of SARS-Cov2 by RT-...</td>\n",
       "      <td>COVID-19 by positive PCR in cord blood and / o...</td>\n",
       "      <td>Centre Hospitalier Régional d'Orléans|Centre d...</td>\n",
       "      <td>...</td>\n",
       "      <td>CHRO-2020-10</td>\n",
       "      <td>May 5, 2020</td>\n",
       "      <td>May 2021</td>\n",
       "      <td>May 2021</td>\n",
       "      <td>May 20, 2020</td>\n",
       "      <td>NaN</td>\n",
       "      <td>June 4, 2020</td>\n",
       "      <td>CHR Orléans, Orléans, France</td>\n",
       "      <td>NaN</td>\n",
       "      <td>https://ClinicalTrials.gov/show/NCT04395924</td>\n",
       "    </tr>\n",
       "    <tr>\n",
       "      <th>...</th>\n",
       "      <td>...</td>\n",
       "      <td>...</td>\n",
       "      <td>...</td>\n",
       "      <td>...</td>\n",
       "      <td>...</td>\n",
       "      <td>...</td>\n",
       "      <td>...</td>\n",
       "      <td>...</td>\n",
       "      <td>...</td>\n",
       "      <td>...</td>\n",
       "      <td>...</td>\n",
       "      <td>...</td>\n",
       "      <td>...</td>\n",
       "      <td>...</td>\n",
       "      <td>...</td>\n",
       "      <td>...</td>\n",
       "      <td>...</td>\n",
       "      <td>...</td>\n",
       "      <td>...</td>\n",
       "      <td>...</td>\n",
       "      <td>...</td>\n",
       "    </tr>\n",
       "    <tr>\n",
       "      <th>5778</th>\n",
       "      <td>5779</td>\n",
       "      <td>NCT04011644</td>\n",
       "      <td>Mobile Health for Alcohol Use Disorders in Cli...</td>\n",
       "      <td>NaN</td>\n",
       "      <td>Recruiting</td>\n",
       "      <td>No Results Available</td>\n",
       "      <td>Alcohol Drinking|Telemedicine</td>\n",
       "      <td>Behavioral: A-CHESS self-monitored|Behavioral:...</td>\n",
       "      <td>Number of risky drinking days|Number of patien...</td>\n",
       "      <td>University of Wisconsin, Madison|National Inst...</td>\n",
       "      <td>...</td>\n",
       "      <td>2019-0337|R01AA024150|A532007|SMPH/FAMILY MED/...</td>\n",
       "      <td>March 23, 2020</td>\n",
       "      <td>August 2022</td>\n",
       "      <td>April 2023</td>\n",
       "      <td>July 8, 2019</td>\n",
       "      <td>NaN</td>\n",
       "      <td>April 2, 2021</td>\n",
       "      <td>UW Health at the American Center, Madison, Wis...</td>\n",
       "      <td>NaN</td>\n",
       "      <td>https://ClinicalTrials.gov/show/NCT04011644</td>\n",
       "    </tr>\n",
       "    <tr>\n",
       "      <th>5779</th>\n",
       "      <td>5780</td>\n",
       "      <td>NCT04681339</td>\n",
       "      <td>Antibiotic Prescription in Children Hospitaliz...</td>\n",
       "      <td>NaN</td>\n",
       "      <td>Not yet recruiting</td>\n",
       "      <td>No Results Available</td>\n",
       "      <td>Community Acquired Pneumonia in Children|Antib...</td>\n",
       "      <td>Other: Antibiotic treatment|Other: No antibiot...</td>\n",
       "      <td>Antibiotic treatment rates in hospitalized chi...</td>\n",
       "      <td>ARCIM Institute Academic Research in Complemen...</td>\n",
       "      <td>...</td>\n",
       "      <td>PKA-03</td>\n",
       "      <td>April 2021</td>\n",
       "      <td>November 2024</td>\n",
       "      <td>December 2024</td>\n",
       "      <td>December 23, 2020</td>\n",
       "      <td>NaN</td>\n",
       "      <td>February 10, 2021</td>\n",
       "      <td>Die Filderklinik, Filderstadt, Baden-Württembe...</td>\n",
       "      <td>NaN</td>\n",
       "      <td>https://ClinicalTrials.gov/show/NCT04681339</td>\n",
       "    </tr>\n",
       "    <tr>\n",
       "      <th>5780</th>\n",
       "      <td>5781</td>\n",
       "      <td>NCT04740229</td>\n",
       "      <td>Moderate-intensity Flow-based Yoga Effects on ...</td>\n",
       "      <td>NaN</td>\n",
       "      <td>Recruiting</td>\n",
       "      <td>No Results Available</td>\n",
       "      <td>Stress|Psychological</td>\n",
       "      <td>Behavioral: Yoga</td>\n",
       "      <td>Perceived Stress|Task switching paradigm|Digit...</td>\n",
       "      <td>University of Illinois at Urbana-Champaign</td>\n",
       "      <td>...</td>\n",
       "      <td>21584</td>\n",
       "      <td>February 10, 2021</td>\n",
       "      <td>July 2021</td>\n",
       "      <td>July 2021</td>\n",
       "      <td>February 5, 2021</td>\n",
       "      <td>NaN</td>\n",
       "      <td>February 24, 2021</td>\n",
       "      <td>University of Illinois at Urbana-Champaign, Ur...</td>\n",
       "      <td>NaN</td>\n",
       "      <td>https://ClinicalTrials.gov/show/NCT04740229</td>\n",
       "    </tr>\n",
       "    <tr>\n",
       "      <th>5781</th>\n",
       "      <td>5782</td>\n",
       "      <td>NCT04804917</td>\n",
       "      <td>3-year Follow-up of the Mind My Mind RCT</td>\n",
       "      <td>MindMyMindFU</td>\n",
       "      <td>Recruiting</td>\n",
       "      <td>No Results Available</td>\n",
       "      <td>Emotional Problem|Anxiety Disorder of Childhoo...</td>\n",
       "      <td>NaN</td>\n",
       "      <td>The child's impact of mental health problems r...</td>\n",
       "      <td>Mental Health Services in the Capital Region, ...</td>\n",
       "      <td>...</td>\n",
       "      <td>MHSCRDenmark, F-61502-03-1</td>\n",
       "      <td>March 22, 2021</td>\n",
       "      <td>May 31, 2022</td>\n",
       "      <td>December 31, 2022</td>\n",
       "      <td>March 18, 2021</td>\n",
       "      <td>NaN</td>\n",
       "      <td>April 1, 2021</td>\n",
       "      <td>Mental Health Services in the Capital Region, ...</td>\n",
       "      <td>NaN</td>\n",
       "      <td>https://ClinicalTrials.gov/show/NCT04804917</td>\n",
       "    </tr>\n",
       "    <tr>\n",
       "      <th>5782</th>\n",
       "      <td>5783</td>\n",
       "      <td>NCT04680000</td>\n",
       "      <td>Chronic Pain Management In Primary Care Using ...</td>\n",
       "      <td>NaN</td>\n",
       "      <td>Not yet recruiting</td>\n",
       "      <td>No Results Available</td>\n",
       "      <td>Chronic Pain</td>\n",
       "      <td>Behavioral: Brief Cognitive Behavioral Therapy...</td>\n",
       "      <td>Defense and Veterans Pain Rating Scale (DVPRS)...</td>\n",
       "      <td>The University of Texas Health Science Center ...</td>\n",
       "      <td>...</td>\n",
       "      <td>HSC20200520H</td>\n",
       "      <td>February 2021</td>\n",
       "      <td>February 2024</td>\n",
       "      <td>February 2025</td>\n",
       "      <td>December 22, 2020</td>\n",
       "      <td>NaN</td>\n",
       "      <td>December 22, 2020</td>\n",
       "      <td>Uniformed Services University for the Health S...</td>\n",
       "      <td>NaN</td>\n",
       "      <td>https://ClinicalTrials.gov/show/NCT04680000</td>\n",
       "    </tr>\n",
       "  </tbody>\n",
       "</table>\n",
       "<p>5783 rows × 27 columns</p>\n",
       "</div>"
      ],
      "text/plain": [
       "      Rank   NCT Number                                              Title  \\\n",
       "0        1  NCT04785898  Diagnostic Performance of the ID Now™ COVID-19...   \n",
       "1        2  NCT04595136  Study to Evaluate the Efficacy of COVID19-0001...   \n",
       "2        3  NCT04395482  Lung CT Scan Analysis of SARS-CoV2 Induced Lun...   \n",
       "3        4  NCT04416061  The Role of a Private Hospital in Hong Kong Am...   \n",
       "4        5  NCT04395924         Maternal-foetal Transmission of SARS-Cov-2   \n",
       "...    ...          ...                                                ...   \n",
       "5778  5779  NCT04011644  Mobile Health for Alcohol Use Disorders in Cli...   \n",
       "5779  5780  NCT04681339  Antibiotic Prescription in Children Hospitaliz...   \n",
       "5780  5781  NCT04740229  Moderate-intensity Flow-based Yoga Effects on ...   \n",
       "5781  5782  NCT04804917           3-year Follow-up of the Mind My Mind RCT   \n",
       "5782  5783  NCT04680000  Chronic Pain Management In Primary Care Using ...   \n",
       "\n",
       "           Acronym                  Status         Study Results  \\\n",
       "0      COVID-IDNow  Active, not recruiting  No Results Available   \n",
       "1         COVID-19      Not yet recruiting  No Results Available   \n",
       "2      TAC-COVID19              Recruiting  No Results Available   \n",
       "3         COVID-19  Active, not recruiting  No Results Available   \n",
       "4     TMF-COVID-19              Recruiting  No Results Available   \n",
       "...            ...                     ...                   ...   \n",
       "5778           NaN              Recruiting  No Results Available   \n",
       "5779           NaN      Not yet recruiting  No Results Available   \n",
       "5780           NaN              Recruiting  No Results Available   \n",
       "5781  MindMyMindFU              Recruiting  No Results Available   \n",
       "5782           NaN      Not yet recruiting  No Results Available   \n",
       "\n",
       "                                             Conditions  \\\n",
       "0                                               Covid19   \n",
       "1                                  SARS-CoV-2 Infection   \n",
       "2                                               covid19   \n",
       "3                                                 COVID   \n",
       "4     Maternal Fetal Infection Transmission|COVID-19...   \n",
       "...                                                 ...   \n",
       "5778                      Alcohol Drinking|Telemedicine   \n",
       "5779  Community Acquired Pneumonia in Children|Antib...   \n",
       "5780                               Stress|Psychological   \n",
       "5781  Emotional Problem|Anxiety Disorder of Childhoo...   \n",
       "5782                                       Chronic Pain   \n",
       "\n",
       "                                          Interventions  \\\n",
       "0      Diagnostic Test: ID Now™ COVID-19 Screening Test   \n",
       "1       Drug: Drug COVID19-0001-USR|Drug: normal saline   \n",
       "2     Other: Lung CT scan analysis in COVID-19 patients   \n",
       "3             Diagnostic Test: COVID 19 Diagnostic Test   \n",
       "4     Diagnostic Test: Diagnosis of SARS-Cov2 by RT-...   \n",
       "...                                                 ...   \n",
       "5778  Behavioral: A-CHESS self-monitored|Behavioral:...   \n",
       "5779  Other: Antibiotic treatment|Other: No antibiot...   \n",
       "5780                                   Behavioral: Yoga   \n",
       "5781                                                NaN   \n",
       "5782  Behavioral: Brief Cognitive Behavioral Therapy...   \n",
       "\n",
       "                                       Outcome Measures  \\\n",
       "0     Evaluate the diagnostic performance of the ID ...   \n",
       "1     Change on viral load results from baseline aft...   \n",
       "2     A qualitative analysis of parenchymal lung dam...   \n",
       "3     Proportion of asymptomatic subjects|Proportion...   \n",
       "4     COVID-19 by positive PCR in cord blood and / o...   \n",
       "...                                                 ...   \n",
       "5778  Number of risky drinking days|Number of patien...   \n",
       "5779  Antibiotic treatment rates in hospitalized chi...   \n",
       "5780  Perceived Stress|Task switching paradigm|Digit...   \n",
       "5781  The child's impact of mental health problems r...   \n",
       "5782  Defense and Veterans Pain Rating Scale (DVPRS)...   \n",
       "\n",
       "                                  Sponsor/Collaborators  ...  \\\n",
       "0                 Groupe Hospitalier Paris Saint Joseph  ...   \n",
       "1                            United Medical Specialties  ...   \n",
       "2                          University of Milano Bicocca  ...   \n",
       "3                       Hong Kong Sanatorium & Hospital  ...   \n",
       "4     Centre Hospitalier Régional d'Orléans|Centre d...  ...   \n",
       "...                                                 ...  ...   \n",
       "5778  University of Wisconsin, Madison|National Inst...  ...   \n",
       "5779  ARCIM Institute Academic Research in Complemen...  ...   \n",
       "5780         University of Illinois at Urbana-Champaign  ...   \n",
       "5781  Mental Health Services in the Capital Region, ...  ...   \n",
       "5782  The University of Texas Health Science Center ...  ...   \n",
       "\n",
       "                                              Other IDs         Start Date  \\\n",
       "0                                           COVID-IDNow   November 9, 2020   \n",
       "1                                      COVID19-0001-USR   November 2, 2020   \n",
       "2                                           TAC-COVID19        May 7, 2020   \n",
       "3                                            RC-2020-08       May 25, 2020   \n",
       "4                                          CHRO-2020-10        May 5, 2020   \n",
       "...                                                 ...                ...   \n",
       "5778  2019-0337|R01AA024150|A532007|SMPH/FAMILY MED/...     March 23, 2020   \n",
       "5779                                             PKA-03         April 2021   \n",
       "5780                                              21584  February 10, 2021   \n",
       "5781                         MHSCRDenmark, F-61502-03-1     March 22, 2021   \n",
       "5782                                       HSC20200520H      February 2021   \n",
       "\n",
       "     Primary Completion Date    Completion Date       First Posted  \\\n",
       "0          December 22, 2020     April 30, 2021      March 8, 2021   \n",
       "1          December 15, 2020   January 29, 2021   October 20, 2020   \n",
       "2              June 15, 2021      June 15, 2021       May 20, 2020   \n",
       "3              July 31, 2020    August 31, 2020       June 4, 2020   \n",
       "4                   May 2021           May 2021       May 20, 2020   \n",
       "...                      ...                ...                ...   \n",
       "5778             August 2022         April 2023       July 8, 2019   \n",
       "5779           November 2024      December 2024  December 23, 2020   \n",
       "5780               July 2021          July 2021   February 5, 2021   \n",
       "5781            May 31, 2022  December 31, 2022     March 18, 2021   \n",
       "5782           February 2024      February 2025  December 22, 2020   \n",
       "\n",
       "     Results First Posted Last Update Posted  \\\n",
       "0                     NaN      March 8, 2021   \n",
       "1                     NaN   October 20, 2020   \n",
       "2                     NaN   November 9, 2020   \n",
       "3                     NaN       June 4, 2020   \n",
       "4                     NaN       June 4, 2020   \n",
       "...                   ...                ...   \n",
       "5778                  NaN      April 2, 2021   \n",
       "5779                  NaN  February 10, 2021   \n",
       "5780                  NaN  February 24, 2021   \n",
       "5781                  NaN      April 1, 2021   \n",
       "5782                  NaN  December 22, 2020   \n",
       "\n",
       "                                              Locations Study Documents  \\\n",
       "0     Groupe Hospitalier Paris Saint-Joseph, Paris, ...             NaN   \n",
       "1          Cimedical, Barranquilla, Atlantico, Colombia             NaN   \n",
       "2     Ospedale Papa Giovanni XXIII, Bergamo, Italy|P...             NaN   \n",
       "3     Hong Kong Sanatorium & Hospital, Hong Kong, Ho...             NaN   \n",
       "4                          CHR Orléans, Orléans, France             NaN   \n",
       "...                                                 ...             ...   \n",
       "5778  UW Health at the American Center, Madison, Wis...             NaN   \n",
       "5779  Die Filderklinik, Filderstadt, Baden-Württembe...             NaN   \n",
       "5780  University of Illinois at Urbana-Champaign, Ur...             NaN   \n",
       "5781  Mental Health Services in the Capital Region, ...             NaN   \n",
       "5782  Uniformed Services University for the Health S...             NaN   \n",
       "\n",
       "                                              URL  \n",
       "0     https://ClinicalTrials.gov/show/NCT04785898  \n",
       "1     https://ClinicalTrials.gov/show/NCT04595136  \n",
       "2     https://ClinicalTrials.gov/show/NCT04395482  \n",
       "3     https://ClinicalTrials.gov/show/NCT04416061  \n",
       "4     https://ClinicalTrials.gov/show/NCT04395924  \n",
       "...                                           ...  \n",
       "5778  https://ClinicalTrials.gov/show/NCT04011644  \n",
       "5779  https://ClinicalTrials.gov/show/NCT04681339  \n",
       "5780  https://ClinicalTrials.gov/show/NCT04740229  \n",
       "5781  https://ClinicalTrials.gov/show/NCT04804917  \n",
       "5782  https://ClinicalTrials.gov/show/NCT04680000  \n",
       "\n",
       "[5783 rows x 27 columns]"
      ]
     },
     "execution_count": 2,
     "metadata": {},
     "output_type": "execute_result"
    }
   ],
   "source": [
    "data= pd.read_csv('COVID clinical trials.csv')\n",
    "data"
   ]
  },
  {
   "cell_type": "code",
   "execution_count": 3,
   "id": "11150736-d2b4-49f2-8247-cf9f75ad3ae9",
   "metadata": {},
   "outputs": [
    {
     "data": {
      "text/plain": [
       "Rank                          0\n",
       "NCT Number                    0\n",
       "Title                         0\n",
       "Acronym                    3303\n",
       "Status                        0\n",
       "Study Results                 0\n",
       "Conditions                    0\n",
       "Interventions               886\n",
       "Outcome Measures             35\n",
       "Sponsor/Collaborators         0\n",
       "Gender                       10\n",
       "Age                           0\n",
       "Phases                     2461\n",
       "Enrollment                   34\n",
       "Funded Bys                    0\n",
       "Study Type                    0\n",
       "Study Designs                35\n",
       "Other IDs                     1\n",
       "Start Date                   34\n",
       "Primary Completion Date      36\n",
       "Completion Date              36\n",
       "First Posted                  0\n",
       "Results First Posted       5747\n",
       "Last Update Posted            0\n",
       "Locations                   585\n",
       "Study Documents            5601\n",
       "URL                           0\n",
       "dtype: int64"
      ]
     },
     "execution_count": 3,
     "metadata": {},
     "output_type": "execute_result"
    }
   ],
   "source": [
    "data.isnull().sum()"
   ]
  },
  {
   "cell_type": "code",
   "execution_count": 4,
   "id": "1f8e08b1-487e-4b82-9abb-4736f81bb13d",
   "metadata": {},
   "outputs": [
    {
     "name": "stdout",
     "output_type": "stream",
     "text": [
      "<class 'pandas.core.frame.DataFrame'>\n",
      "RangeIndex: 5783 entries, 0 to 5782\n",
      "Data columns (total 27 columns):\n",
      " #   Column                   Non-Null Count  Dtype  \n",
      "---  ------                   --------------  -----  \n",
      " 0   Rank                     5783 non-null   int64  \n",
      " 1   NCT Number               5783 non-null   object \n",
      " 2   Title                    5783 non-null   object \n",
      " 3   Acronym                  2480 non-null   object \n",
      " 4   Status                   5783 non-null   object \n",
      " 5   Study Results            5783 non-null   object \n",
      " 6   Conditions               5783 non-null   object \n",
      " 7   Interventions            4897 non-null   object \n",
      " 8   Outcome Measures         5748 non-null   object \n",
      " 9   Sponsor/Collaborators    5783 non-null   object \n",
      " 10  Gender                   5773 non-null   object \n",
      " 11  Age                      5783 non-null   object \n",
      " 12  Phases                   3322 non-null   object \n",
      " 13  Enrollment               5749 non-null   float64\n",
      " 14  Funded Bys               5783 non-null   object \n",
      " 15  Study Type               5783 non-null   object \n",
      " 16  Study Designs            5748 non-null   object \n",
      " 17  Other IDs                5782 non-null   object \n",
      " 18  Start Date               5749 non-null   object \n",
      " 19  Primary Completion Date  5747 non-null   object \n",
      " 20  Completion Date          5747 non-null   object \n",
      " 21  First Posted             5783 non-null   object \n",
      " 22  Results First Posted     36 non-null     object \n",
      " 23  Last Update Posted       5783 non-null   object \n",
      " 24  Locations                5198 non-null   object \n",
      " 25  Study Documents          182 non-null    object \n",
      " 26  URL                      5783 non-null   object \n",
      "dtypes: float64(1), int64(1), object(25)\n",
      "memory usage: 1.2+ MB\n"
     ]
    }
   ],
   "source": [
    "data.info()"
   ]
  },
  {
   "cell_type": "code",
   "execution_count": 5,
   "id": "3a525eb2-430b-479e-8c3d-8e2adb5dcc17",
   "metadata": {
    "scrolled": true
   },
   "outputs": [
    {
     "data": {
      "text/html": [
       "<div>\n",
       "<style scoped>\n",
       "    .dataframe tbody tr th:only-of-type {\n",
       "        vertical-align: middle;\n",
       "    }\n",
       "\n",
       "    .dataframe tbody tr th {\n",
       "        vertical-align: top;\n",
       "    }\n",
       "\n",
       "    .dataframe thead th {\n",
       "        text-align: right;\n",
       "    }\n",
       "</style>\n",
       "<table border=\"1\" class=\"dataframe\">\n",
       "  <thead>\n",
       "    <tr style=\"text-align: right;\">\n",
       "      <th></th>\n",
       "      <th>Rank</th>\n",
       "      <th>Enrollment</th>\n",
       "    </tr>\n",
       "  </thead>\n",
       "  <tbody>\n",
       "    <tr>\n",
       "      <th>count</th>\n",
       "      <td>5783.000000</td>\n",
       "      <td>5.749000e+03</td>\n",
       "    </tr>\n",
       "    <tr>\n",
       "      <th>mean</th>\n",
       "      <td>2892.000000</td>\n",
       "      <td>1.831949e+04</td>\n",
       "    </tr>\n",
       "    <tr>\n",
       "      <th>std</th>\n",
       "      <td>1669.552635</td>\n",
       "      <td>4.045437e+05</td>\n",
       "    </tr>\n",
       "    <tr>\n",
       "      <th>min</th>\n",
       "      <td>1.000000</td>\n",
       "      <td>0.000000e+00</td>\n",
       "    </tr>\n",
       "    <tr>\n",
       "      <th>25%</th>\n",
       "      <td>1446.500000</td>\n",
       "      <td>6.000000e+01</td>\n",
       "    </tr>\n",
       "    <tr>\n",
       "      <th>50%</th>\n",
       "      <td>2892.000000</td>\n",
       "      <td>1.700000e+02</td>\n",
       "    </tr>\n",
       "    <tr>\n",
       "      <th>75%</th>\n",
       "      <td>4337.500000</td>\n",
       "      <td>5.600000e+02</td>\n",
       "    </tr>\n",
       "    <tr>\n",
       "      <th>max</th>\n",
       "      <td>5783.000000</td>\n",
       "      <td>2.000000e+07</td>\n",
       "    </tr>\n",
       "  </tbody>\n",
       "</table>\n",
       "</div>"
      ],
      "text/plain": [
       "              Rank    Enrollment\n",
       "count  5783.000000  5.749000e+03\n",
       "mean   2892.000000  1.831949e+04\n",
       "std    1669.552635  4.045437e+05\n",
       "min       1.000000  0.000000e+00\n",
       "25%    1446.500000  6.000000e+01\n",
       "50%    2892.000000  1.700000e+02\n",
       "75%    4337.500000  5.600000e+02\n",
       "max    5783.000000  2.000000e+07"
      ]
     },
     "execution_count": 5,
     "metadata": {},
     "output_type": "execute_result"
    }
   ],
   "source": [
    "data.describe()"
   ]
  },
  {
   "cell_type": "code",
   "execution_count": 6,
   "id": "d4bfc07a-83df-4fa2-bce9-06d22593e459",
   "metadata": {},
   "outputs": [],
   "source": [
    "# As we have more null values then w will find % of null values so to do the fill or drop to columns or rows"
   ]
  },
  {
   "cell_type": "code",
   "execution_count": 7,
   "id": "00075fe2-71b9-4c95-bb28-ac4a0ae6c2ee",
   "metadata": {},
   "outputs": [],
   "source": [
    "percent_missing_data = round(data.isnull().mean() * 100,2)"
   ]
  },
  {
   "cell_type": "code",
   "execution_count": 8,
   "id": "3a2bd172-4fc0-495d-a490-cfa86d8bfaac",
   "metadata": {},
   "outputs": [],
   "source": [
    "percent_missing_data = pd.DataFrame(percent_missing_data,columns = ['Values']).reset_index().rename(columns = {'index':'columns','Values':'percentage missing data'})"
   ]
  },
  {
   "cell_type": "code",
   "execution_count": 9,
   "id": "6d36a943-9a4e-4828-a6c6-22fb280ef64d",
   "metadata": {},
   "outputs": [
    {
     "data": {
      "text/html": [
       "<div>\n",
       "<style scoped>\n",
       "    .dataframe tbody tr th:only-of-type {\n",
       "        vertical-align: middle;\n",
       "    }\n",
       "\n",
       "    .dataframe tbody tr th {\n",
       "        vertical-align: top;\n",
       "    }\n",
       "\n",
       "    .dataframe thead th {\n",
       "        text-align: right;\n",
       "    }\n",
       "</style>\n",
       "<table border=\"1\" class=\"dataframe\">\n",
       "  <thead>\n",
       "    <tr style=\"text-align: right;\">\n",
       "      <th></th>\n",
       "      <th>columns</th>\n",
       "      <th>percentage missing data</th>\n",
       "    </tr>\n",
       "  </thead>\n",
       "  <tbody>\n",
       "    <tr>\n",
       "      <th>0</th>\n",
       "      <td>Rank</td>\n",
       "      <td>0.00</td>\n",
       "    </tr>\n",
       "    <tr>\n",
       "      <th>1</th>\n",
       "      <td>NCT Number</td>\n",
       "      <td>0.00</td>\n",
       "    </tr>\n",
       "    <tr>\n",
       "      <th>2</th>\n",
       "      <td>Title</td>\n",
       "      <td>0.00</td>\n",
       "    </tr>\n",
       "    <tr>\n",
       "      <th>3</th>\n",
       "      <td>Acronym</td>\n",
       "      <td>57.12</td>\n",
       "    </tr>\n",
       "    <tr>\n",
       "      <th>4</th>\n",
       "      <td>Status</td>\n",
       "      <td>0.00</td>\n",
       "    </tr>\n",
       "    <tr>\n",
       "      <th>5</th>\n",
       "      <td>Study Results</td>\n",
       "      <td>0.00</td>\n",
       "    </tr>\n",
       "    <tr>\n",
       "      <th>6</th>\n",
       "      <td>Conditions</td>\n",
       "      <td>0.00</td>\n",
       "    </tr>\n",
       "    <tr>\n",
       "      <th>7</th>\n",
       "      <td>Interventions</td>\n",
       "      <td>15.32</td>\n",
       "    </tr>\n",
       "    <tr>\n",
       "      <th>8</th>\n",
       "      <td>Outcome Measures</td>\n",
       "      <td>0.61</td>\n",
       "    </tr>\n",
       "    <tr>\n",
       "      <th>9</th>\n",
       "      <td>Sponsor/Collaborators</td>\n",
       "      <td>0.00</td>\n",
       "    </tr>\n",
       "    <tr>\n",
       "      <th>10</th>\n",
       "      <td>Gender</td>\n",
       "      <td>0.17</td>\n",
       "    </tr>\n",
       "    <tr>\n",
       "      <th>11</th>\n",
       "      <td>Age</td>\n",
       "      <td>0.00</td>\n",
       "    </tr>\n",
       "    <tr>\n",
       "      <th>12</th>\n",
       "      <td>Phases</td>\n",
       "      <td>42.56</td>\n",
       "    </tr>\n",
       "    <tr>\n",
       "      <th>13</th>\n",
       "      <td>Enrollment</td>\n",
       "      <td>0.59</td>\n",
       "    </tr>\n",
       "    <tr>\n",
       "      <th>14</th>\n",
       "      <td>Funded Bys</td>\n",
       "      <td>0.00</td>\n",
       "    </tr>\n",
       "    <tr>\n",
       "      <th>15</th>\n",
       "      <td>Study Type</td>\n",
       "      <td>0.00</td>\n",
       "    </tr>\n",
       "    <tr>\n",
       "      <th>16</th>\n",
       "      <td>Study Designs</td>\n",
       "      <td>0.61</td>\n",
       "    </tr>\n",
       "    <tr>\n",
       "      <th>17</th>\n",
       "      <td>Other IDs</td>\n",
       "      <td>0.02</td>\n",
       "    </tr>\n",
       "    <tr>\n",
       "      <th>18</th>\n",
       "      <td>Start Date</td>\n",
       "      <td>0.59</td>\n",
       "    </tr>\n",
       "    <tr>\n",
       "      <th>19</th>\n",
       "      <td>Primary Completion Date</td>\n",
       "      <td>0.62</td>\n",
       "    </tr>\n",
       "    <tr>\n",
       "      <th>20</th>\n",
       "      <td>Completion Date</td>\n",
       "      <td>0.62</td>\n",
       "    </tr>\n",
       "    <tr>\n",
       "      <th>21</th>\n",
       "      <td>First Posted</td>\n",
       "      <td>0.00</td>\n",
       "    </tr>\n",
       "    <tr>\n",
       "      <th>22</th>\n",
       "      <td>Results First Posted</td>\n",
       "      <td>99.38</td>\n",
       "    </tr>\n",
       "    <tr>\n",
       "      <th>23</th>\n",
       "      <td>Last Update Posted</td>\n",
       "      <td>0.00</td>\n",
       "    </tr>\n",
       "    <tr>\n",
       "      <th>24</th>\n",
       "      <td>Locations</td>\n",
       "      <td>10.12</td>\n",
       "    </tr>\n",
       "    <tr>\n",
       "      <th>25</th>\n",
       "      <td>Study Documents</td>\n",
       "      <td>96.85</td>\n",
       "    </tr>\n",
       "    <tr>\n",
       "      <th>26</th>\n",
       "      <td>URL</td>\n",
       "      <td>0.00</td>\n",
       "    </tr>\n",
       "  </tbody>\n",
       "</table>\n",
       "</div>"
      ],
      "text/plain": [
       "                    columns  percentage missing data\n",
       "0                      Rank                     0.00\n",
       "1                NCT Number                     0.00\n",
       "2                     Title                     0.00\n",
       "3                   Acronym                    57.12\n",
       "4                    Status                     0.00\n",
       "5             Study Results                     0.00\n",
       "6                Conditions                     0.00\n",
       "7             Interventions                    15.32\n",
       "8          Outcome Measures                     0.61\n",
       "9     Sponsor/Collaborators                     0.00\n",
       "10                   Gender                     0.17\n",
       "11                      Age                     0.00\n",
       "12                   Phases                    42.56\n",
       "13               Enrollment                     0.59\n",
       "14               Funded Bys                     0.00\n",
       "15               Study Type                     0.00\n",
       "16            Study Designs                     0.61\n",
       "17                Other IDs                     0.02\n",
       "18               Start Date                     0.59\n",
       "19  Primary Completion Date                     0.62\n",
       "20          Completion Date                     0.62\n",
       "21             First Posted                     0.00\n",
       "22     Results First Posted                    99.38\n",
       "23       Last Update Posted                     0.00\n",
       "24                Locations                    10.12\n",
       "25          Study Documents                    96.85\n",
       "26                      URL                     0.00"
      ]
     },
     "execution_count": 9,
     "metadata": {},
     "output_type": "execute_result"
    }
   ],
   "source": [
    "percent_missing_data"
   ]
  },
  {
   "cell_type": "code",
   "execution_count": 10,
   "id": "68098900-c9be-4940-a484-6a78737cd9b0",
   "metadata": {},
   "outputs": [],
   "source": [
    "# data = data.drop(['Results First Posted', 'Study Documents'], axis=1)\n",
    "\n",
    "# print(data.columns) "
   ]
  },
  {
   "cell_type": "code",
   "execution_count": 11,
   "id": "ca1adfd2-cebf-4ab1-b779-25b4c772e3b7",
   "metadata": {},
   "outputs": [],
   "source": [
    "# print(data.columns)"
   ]
  },
  {
   "cell_type": "code",
   "execution_count": 12,
   "id": "de614427-3f26-4987-95b0-82c9a7cdad69",
   "metadata": {},
   "outputs": [
    {
     "data": {
      "text/plain": [
       "0"
      ]
     },
     "execution_count": 12,
     "metadata": {},
     "output_type": "execute_result"
    }
   ],
   "source": [
    "data.duplicated().sum()"
   ]
  },
  {
   "cell_type": "code",
   "execution_count": 13,
   "id": "6317bc9c-aee9-41a6-981c-9fa7cc2d47ee",
   "metadata": {},
   "outputs": [
    {
     "data": {
      "text/plain": [
       "array(['COVID-IDNow', 'COVID-19', 'TAC-COVID19', ..., 'CRISP', 'cSLE',\n",
       "       'MindMyMindFU'], dtype=object)"
      ]
     },
     "execution_count": 13,
     "metadata": {},
     "output_type": "execute_result"
    }
   ],
   "source": [
    "data.Acronym.unique()"
   ]
  },
  {
   "cell_type": "code",
   "execution_count": 14,
   "id": "3509acd2-1add-46a3-8a60-44a210cc637f",
   "metadata": {},
   "outputs": [
    {
     "data": {
      "text/plain": [
       "Acronym\n",
       "COVID-19        47\n",
       "PROTECT          7\n",
       "CORONA           6\n",
       "RECOVER          5\n",
       "SCOPE            5\n",
       "                ..\n",
       "ASD              1\n",
       "VICO             1\n",
       "LICORNE          1\n",
       "LOSVID           1\n",
       "MindMyMindFU     1\n",
       "Name: count, Length: 2338, dtype: int64"
      ]
     },
     "execution_count": 14,
     "metadata": {},
     "output_type": "execute_result"
    }
   ],
   "source": [
    "data.Acronym.value_counts()"
   ]
  },
  {
   "cell_type": "code",
   "execution_count": 15,
   "id": "e8557d92-df5c-4f4a-a2b1-6be81881521d",
   "metadata": {},
   "outputs": [
    {
     "data": {
      "text/plain": [
       "0               France\n",
       "1             Colombia\n",
       "2           San Marino\n",
       "3            Hong Kong\n",
       "4               France\n",
       "             ...      \n",
       "5778     United States\n",
       "5779           Germany\n",
       "5780     United States\n",
       "5781           Denmark\n",
       "5782     United States\n",
       "Name: Country, Length: 5783, dtype: object"
      ]
     },
     "execution_count": 15,
     "metadata": {},
     "output_type": "execute_result"
    }
   ],
   "source": [
    "#extract country names from loactions\n",
    "countries = [str(data.Locations.iloc[i]).split(',')[-1] for i in range(data.shape[0])]\n",
    "data['Country'] =countries\n",
    "data['Country']"
   ]
  },
  {
   "cell_type": "code",
   "execution_count": 16,
   "id": "fce9c7f5-df1e-483f-9460-3c73ffdbcf94",
   "metadata": {},
   "outputs": [
    {
     "data": {
      "text/plain": [
       "Country\n",
       " United States          1267\n",
       " France                  647\n",
       "nan                      585\n",
       " United Kingdom          306\n",
       " Italy                   235\n",
       " Spain                   234\n",
       " Turkey                  219\n",
       " Canada                  202\n",
       " Egypt                   192\n",
       " China                   171\n",
       " Brazil                  137\n",
       " Germany                 128\n",
       " Belgium                  91\n",
       " Mexico                   88\n",
       " Switzerland              76\n",
       " Russian Federation       69\n",
       " Sweden                   57\n",
       " Denmark                  56\n",
       " Israel                   56\n",
       " India                    55\n",
       " Pakistan                 53\n",
       " Argentina                47\n",
       " Netherlands              46\n",
       " Norway                   38\n",
       " Hong Kong                36\n",
       " Colombia                 33\n",
       " Republic of              31\n",
       " Austria                  29\n",
       " Poland                   29\n",
       " Singapore                29\n",
       " Saudi Arabia             27\n",
       " Australia                26\n",
       " Greece                   26\n",
       " Islamic Republic of      23\n",
       " South Africa             22\n",
       " Indonesia                21\n",
       " Bangladesh               20\n",
       " Japan                    18\n",
       " Peru                     17\n",
       " Puerto Rico              17\n",
       " Chile                    17\n",
       " Taiwan                   16\n",
       " Ukraine                  14\n",
       " Malaysia                 13\n",
       " Romania                  13\n",
       " Qatar                    12\n",
       " Hungary                  12\n",
       " Jordan                   11\n",
       " Tunisia                  11\n",
       " Czechia                   9\n",
       "Name: count, dtype: int64"
      ]
     },
     "execution_count": 16,
     "metadata": {},
     "output_type": "execute_result"
    }
   ],
   "source": [
    "data['Country'].value_counts()[:50]"
   ]
  },
  {
   "cell_type": "code",
   "execution_count": 17,
   "id": "0dc1dc6d-2ea3-4930-b561-e4509b61a8e7",
   "metadata": {},
   "outputs": [],
   "source": [
    "# we need to classify the missingdata to one category\n",
    "# a.missing completey at random\n",
    "# b.missing at random\n",
    "# c.not missing at random"
   ]
  },
  {
   "cell_type": "code",
   "execution_count": 18,
   "id": "46a7e301-56a0-4c97-9232-7be53649c359",
   "metadata": {},
   "outputs": [
    {
     "data": {
      "text/plain": [
       "Country\n",
       " Iraq                      100.000000\n",
       " Belarus                   100.000000\n",
       " Rwanda                    100.000000\n",
       " South Sudan               100.000000\n",
       " Cambodia                  100.000000\n",
       " Bulgaria                  100.000000\n",
       " Cyprus                    100.000000\n",
       " Bosnia and Herzegovina    100.000000\n",
       " Guinea-Bissau             100.000000\n",
       " Dominican Republic        100.000000\n",
       " Ecuador                   100.000000\n",
       " North Macedonia           100.000000\n",
       " Bahrain                   100.000000\n",
       " Azerbaijan                100.000000\n",
       " Uruguay                   100.000000\n",
       " Uzbekistan                100.000000\n",
       " Kyrgyzstan                100.000000\n",
       " Cape Verde                100.000000\n",
       " Republic of                96.774194\n",
       " Taiwan                     93.750000\n",
       " Singapore                  93.103448\n",
       " Japan                      88.888889\n",
       " Kuwait                     87.500000\n",
       " China                      87.134503\n",
       " Turkey                     86.757991\n",
       " Ukraine                    85.714286\n",
       " Malaysia                   84.615385\n",
       " Egypt                      83.854167\n",
       " Hungary                    83.333333\n",
       " Hong Kong                  80.555556\n",
       " Bangladesh                 80.000000\n",
       " India                      80.000000\n",
       " Kazakhstan                 80.000000\n",
       " Saudi Arabia               77.777778\n",
       " Puerto Rico                76.470588\n",
       " Israel                     75.000000\n",
       " Zimbabwe                   75.000000\n",
       " Jordan                     72.727273\n",
       " Poland                     72.413793\n",
       " Indonesia                  71.428571\n",
       " United States              69.376480\n",
       " Romania                    69.230769\n",
       " Kenya                      66.666667\n",
       " Nepal                      66.666667\n",
       " New Zealand                66.666667\n",
       " Ethiopia                   66.666667\n",
       " Slovakia                   66.666667\n",
       " Thailand                   66.666667\n",
       " Lebanon                    66.666667\n",
       "nan                         66.324786\n",
       " Islamic Republic of        65.217391\n",
       " Russian Federation         65.217391\n",
       " Chile                      64.705882\n",
       " Austria                    62.068966\n",
       " Pakistan                   60.377358\n",
       " Brazil                     59.124088\n",
       " Mexico                     57.954545\n",
       " Sweden                     57.894737\n",
       " Argentina                  57.446809\n",
       " Canada                     55.940594\n",
       "Name: Acronym, dtype: float64"
      ]
     },
     "execution_count": 18,
     "metadata": {},
     "output_type": "execute_result"
    }
   ],
   "source": [
    "#find relation between null values in Acronym with countries\n",
    "\n",
    "(data.Acronym.isnull().groupby(data.Country).mean().sort_values(ascending = False) * 100)[:60]"
   ]
  },
  {
   "cell_type": "code",
   "execution_count": 19,
   "id": "7146986a-fec6-46e0-8161-d08b45fb52c7",
   "metadata": {},
   "outputs": [],
   "source": [
    "#find"
   ]
  },
  {
   "cell_type": "code",
   "execution_count": 20,
   "id": "39d13d82-11d5-4da0-970a-3623732030e5",
   "metadata": {},
   "outputs": [
    {
     "data": {
      "text/plain": [
       "Rank                        0.000000\n",
       "NCT Number                  0.000000\n",
       "Title                       0.000000\n",
       "Acronym                    57.115684\n",
       "Status                      0.000000\n",
       "Study Results               0.000000\n",
       "Conditions                  0.000000\n",
       "Interventions              15.320768\n",
       "Outcome Measures            0.605222\n",
       "Sponsor/Collaborators       0.000000\n",
       "Gender                      0.172921\n",
       "Age                         0.000000\n",
       "Phases                     42.555767\n",
       "Enrollment                  0.587930\n",
       "Funded Bys                  0.000000\n",
       "Study Type                  0.000000\n",
       "Study Designs               0.605222\n",
       "Other IDs                   0.017292\n",
       "Start Date                  0.587930\n",
       "Primary Completion Date     0.622514\n",
       "Completion Date             0.622514\n",
       "First Posted                0.000000\n",
       "Results First Posted       99.377486\n",
       "Last Update Posted          0.000000\n",
       "Locations                  10.115857\n",
       "Study Documents            96.852845\n",
       "URL                         0.000000\n",
       "Country                     0.000000\n",
       "dtype: float64"
      ]
     },
     "execution_count": 20,
     "metadata": {},
     "output_type": "execute_result"
    }
   ],
   "source": [
    "data.isnull().mean()*100"
   ]
  },
  {
   "cell_type": "code",
   "execution_count": 21,
   "id": "ec87727c-ef4a-4613-826d-411cb9a77e5a",
   "metadata": {},
   "outputs": [],
   "source": [
    "data.Acronym = data.Acronym.fillna('Missing Acronym')"
   ]
  },
  {
   "cell_type": "code",
   "execution_count": 22,
   "id": "6b53018c-f125-48f0-9790-5e864ffa7d93",
   "metadata": {},
   "outputs": [
    {
     "data": {
      "text/html": [
       "<div>\n",
       "<style scoped>\n",
       "    .dataframe tbody tr th:only-of-type {\n",
       "        vertical-align: middle;\n",
       "    }\n",
       "\n",
       "    .dataframe tbody tr th {\n",
       "        vertical-align: top;\n",
       "    }\n",
       "\n",
       "    .dataframe thead th {\n",
       "        text-align: right;\n",
       "    }\n",
       "</style>\n",
       "<table border=\"1\" class=\"dataframe\">\n",
       "  <thead>\n",
       "    <tr style=\"text-align: right;\">\n",
       "      <th></th>\n",
       "      <th>Rank</th>\n",
       "      <th>NCT Number</th>\n",
       "      <th>Title</th>\n",
       "      <th>Acronym</th>\n",
       "      <th>Status</th>\n",
       "      <th>Study Results</th>\n",
       "      <th>Conditions</th>\n",
       "      <th>Interventions</th>\n",
       "      <th>Outcome Measures</th>\n",
       "      <th>Sponsor/Collaborators</th>\n",
       "      <th>...</th>\n",
       "      <th>Start Date</th>\n",
       "      <th>Primary Completion Date</th>\n",
       "      <th>Completion Date</th>\n",
       "      <th>First Posted</th>\n",
       "      <th>Results First Posted</th>\n",
       "      <th>Last Update Posted</th>\n",
       "      <th>Locations</th>\n",
       "      <th>Study Documents</th>\n",
       "      <th>URL</th>\n",
       "      <th>Country</th>\n",
       "    </tr>\n",
       "  </thead>\n",
       "  <tbody>\n",
       "    <tr>\n",
       "      <th>0</th>\n",
       "      <td>1</td>\n",
       "      <td>NCT04785898</td>\n",
       "      <td>Diagnostic Performance of the ID Now™ COVID-19...</td>\n",
       "      <td>COVID-IDNow</td>\n",
       "      <td>Active, not recruiting</td>\n",
       "      <td>No Results Available</td>\n",
       "      <td>Covid19</td>\n",
       "      <td>Diagnostic Test: ID Now™ COVID-19 Screening Test</td>\n",
       "      <td>Evaluate the diagnostic performance of the ID ...</td>\n",
       "      <td>Groupe Hospitalier Paris Saint Joseph</td>\n",
       "      <td>...</td>\n",
       "      <td>November 9, 2020</td>\n",
       "      <td>December 22, 2020</td>\n",
       "      <td>April 30, 2021</td>\n",
       "      <td>March 8, 2021</td>\n",
       "      <td>NaN</td>\n",
       "      <td>March 8, 2021</td>\n",
       "      <td>Groupe Hospitalier Paris Saint-Joseph, Paris, ...</td>\n",
       "      <td>NaN</td>\n",
       "      <td>https://ClinicalTrials.gov/show/NCT04785898</td>\n",
       "      <td>France</td>\n",
       "    </tr>\n",
       "    <tr>\n",
       "      <th>1</th>\n",
       "      <td>2</td>\n",
       "      <td>NCT04595136</td>\n",
       "      <td>Study to Evaluate the Efficacy of COVID19-0001...</td>\n",
       "      <td>COVID-19</td>\n",
       "      <td>Not yet recruiting</td>\n",
       "      <td>No Results Available</td>\n",
       "      <td>SARS-CoV-2 Infection</td>\n",
       "      <td>Drug: Drug COVID19-0001-USR|Drug: normal saline</td>\n",
       "      <td>Change on viral load results from baseline aft...</td>\n",
       "      <td>United Medical Specialties</td>\n",
       "      <td>...</td>\n",
       "      <td>November 2, 2020</td>\n",
       "      <td>December 15, 2020</td>\n",
       "      <td>January 29, 2021</td>\n",
       "      <td>October 20, 2020</td>\n",
       "      <td>NaN</td>\n",
       "      <td>October 20, 2020</td>\n",
       "      <td>Cimedical, Barranquilla, Atlantico, Colombia</td>\n",
       "      <td>NaN</td>\n",
       "      <td>https://ClinicalTrials.gov/show/NCT04595136</td>\n",
       "      <td>Colombia</td>\n",
       "    </tr>\n",
       "    <tr>\n",
       "      <th>2</th>\n",
       "      <td>3</td>\n",
       "      <td>NCT04395482</td>\n",
       "      <td>Lung CT Scan Analysis of SARS-CoV2 Induced Lun...</td>\n",
       "      <td>TAC-COVID19</td>\n",
       "      <td>Recruiting</td>\n",
       "      <td>No Results Available</td>\n",
       "      <td>covid19</td>\n",
       "      <td>Other: Lung CT scan analysis in COVID-19 patients</td>\n",
       "      <td>A qualitative analysis of parenchymal lung dam...</td>\n",
       "      <td>University of Milano Bicocca</td>\n",
       "      <td>...</td>\n",
       "      <td>May 7, 2020</td>\n",
       "      <td>June 15, 2021</td>\n",
       "      <td>June 15, 2021</td>\n",
       "      <td>May 20, 2020</td>\n",
       "      <td>NaN</td>\n",
       "      <td>November 9, 2020</td>\n",
       "      <td>Ospedale Papa Giovanni XXIII, Bergamo, Italy|P...</td>\n",
       "      <td>NaN</td>\n",
       "      <td>https://ClinicalTrials.gov/show/NCT04395482</td>\n",
       "      <td>San Marino</td>\n",
       "    </tr>\n",
       "    <tr>\n",
       "      <th>3</th>\n",
       "      <td>4</td>\n",
       "      <td>NCT04416061</td>\n",
       "      <td>The Role of a Private Hospital in Hong Kong Am...</td>\n",
       "      <td>COVID-19</td>\n",
       "      <td>Active, not recruiting</td>\n",
       "      <td>No Results Available</td>\n",
       "      <td>COVID</td>\n",
       "      <td>Diagnostic Test: COVID 19 Diagnostic Test</td>\n",
       "      <td>Proportion of asymptomatic subjects|Proportion...</td>\n",
       "      <td>Hong Kong Sanatorium &amp; Hospital</td>\n",
       "      <td>...</td>\n",
       "      <td>May 25, 2020</td>\n",
       "      <td>July 31, 2020</td>\n",
       "      <td>August 31, 2020</td>\n",
       "      <td>June 4, 2020</td>\n",
       "      <td>NaN</td>\n",
       "      <td>June 4, 2020</td>\n",
       "      <td>Hong Kong Sanatorium &amp; Hospital, Hong Kong, Ho...</td>\n",
       "      <td>NaN</td>\n",
       "      <td>https://ClinicalTrials.gov/show/NCT04416061</td>\n",
       "      <td>Hong Kong</td>\n",
       "    </tr>\n",
       "    <tr>\n",
       "      <th>4</th>\n",
       "      <td>5</td>\n",
       "      <td>NCT04395924</td>\n",
       "      <td>Maternal-foetal Transmission of SARS-Cov-2</td>\n",
       "      <td>TMF-COVID-19</td>\n",
       "      <td>Recruiting</td>\n",
       "      <td>No Results Available</td>\n",
       "      <td>Maternal Fetal Infection Transmission|COVID-19...</td>\n",
       "      <td>Diagnostic Test: Diagnosis of SARS-Cov2 by RT-...</td>\n",
       "      <td>COVID-19 by positive PCR in cord blood and / o...</td>\n",
       "      <td>Centre Hospitalier Régional d'Orléans|Centre d...</td>\n",
       "      <td>...</td>\n",
       "      <td>May 5, 2020</td>\n",
       "      <td>May 2021</td>\n",
       "      <td>May 2021</td>\n",
       "      <td>May 20, 2020</td>\n",
       "      <td>NaN</td>\n",
       "      <td>June 4, 2020</td>\n",
       "      <td>CHR Orléans, Orléans, France</td>\n",
       "      <td>NaN</td>\n",
       "      <td>https://ClinicalTrials.gov/show/NCT04395924</td>\n",
       "      <td>France</td>\n",
       "    </tr>\n",
       "  </tbody>\n",
       "</table>\n",
       "<p>5 rows × 28 columns</p>\n",
       "</div>"
      ],
      "text/plain": [
       "   Rank   NCT Number                                              Title  \\\n",
       "0     1  NCT04785898  Diagnostic Performance of the ID Now™ COVID-19...   \n",
       "1     2  NCT04595136  Study to Evaluate the Efficacy of COVID19-0001...   \n",
       "2     3  NCT04395482  Lung CT Scan Analysis of SARS-CoV2 Induced Lun...   \n",
       "3     4  NCT04416061  The Role of a Private Hospital in Hong Kong Am...   \n",
       "4     5  NCT04395924         Maternal-foetal Transmission of SARS-Cov-2   \n",
       "\n",
       "        Acronym                  Status         Study Results  \\\n",
       "0   COVID-IDNow  Active, not recruiting  No Results Available   \n",
       "1      COVID-19      Not yet recruiting  No Results Available   \n",
       "2   TAC-COVID19              Recruiting  No Results Available   \n",
       "3      COVID-19  Active, not recruiting  No Results Available   \n",
       "4  TMF-COVID-19              Recruiting  No Results Available   \n",
       "\n",
       "                                          Conditions  \\\n",
       "0                                            Covid19   \n",
       "1                               SARS-CoV-2 Infection   \n",
       "2                                            covid19   \n",
       "3                                              COVID   \n",
       "4  Maternal Fetal Infection Transmission|COVID-19...   \n",
       "\n",
       "                                       Interventions  \\\n",
       "0   Diagnostic Test: ID Now™ COVID-19 Screening Test   \n",
       "1    Drug: Drug COVID19-0001-USR|Drug: normal saline   \n",
       "2  Other: Lung CT scan analysis in COVID-19 patients   \n",
       "3          Diagnostic Test: COVID 19 Diagnostic Test   \n",
       "4  Diagnostic Test: Diagnosis of SARS-Cov2 by RT-...   \n",
       "\n",
       "                                    Outcome Measures  \\\n",
       "0  Evaluate the diagnostic performance of the ID ...   \n",
       "1  Change on viral load results from baseline aft...   \n",
       "2  A qualitative analysis of parenchymal lung dam...   \n",
       "3  Proportion of asymptomatic subjects|Proportion...   \n",
       "4  COVID-19 by positive PCR in cord blood and / o...   \n",
       "\n",
       "                               Sponsor/Collaborators  ...        Start Date  \\\n",
       "0              Groupe Hospitalier Paris Saint Joseph  ...  November 9, 2020   \n",
       "1                         United Medical Specialties  ...  November 2, 2020   \n",
       "2                       University of Milano Bicocca  ...       May 7, 2020   \n",
       "3                    Hong Kong Sanatorium & Hospital  ...      May 25, 2020   \n",
       "4  Centre Hospitalier Régional d'Orléans|Centre d...  ...       May 5, 2020   \n",
       "\n",
       "  Primary Completion Date   Completion Date      First Posted  \\\n",
       "0       December 22, 2020    April 30, 2021     March 8, 2021   \n",
       "1       December 15, 2020  January 29, 2021  October 20, 2020   \n",
       "2           June 15, 2021     June 15, 2021      May 20, 2020   \n",
       "3           July 31, 2020   August 31, 2020      June 4, 2020   \n",
       "4                May 2021          May 2021      May 20, 2020   \n",
       "\n",
       "  Results First Posted Last Update Posted  \\\n",
       "0                  NaN      March 8, 2021   \n",
       "1                  NaN   October 20, 2020   \n",
       "2                  NaN   November 9, 2020   \n",
       "3                  NaN       June 4, 2020   \n",
       "4                  NaN       June 4, 2020   \n",
       "\n",
       "                                           Locations Study Documents  \\\n",
       "0  Groupe Hospitalier Paris Saint-Joseph, Paris, ...             NaN   \n",
       "1       Cimedical, Barranquilla, Atlantico, Colombia             NaN   \n",
       "2  Ospedale Papa Giovanni XXIII, Bergamo, Italy|P...             NaN   \n",
       "3  Hong Kong Sanatorium & Hospital, Hong Kong, Ho...             NaN   \n",
       "4                       CHR Orléans, Orléans, France             NaN   \n",
       "\n",
       "                                           URL      Country  \n",
       "0  https://ClinicalTrials.gov/show/NCT04785898       France  \n",
       "1  https://ClinicalTrials.gov/show/NCT04595136     Colombia  \n",
       "2  https://ClinicalTrials.gov/show/NCT04395482   San Marino  \n",
       "3  https://ClinicalTrials.gov/show/NCT04416061    Hong Kong  \n",
       "4  https://ClinicalTrials.gov/show/NCT04395924       France  \n",
       "\n",
       "[5 rows x 28 columns]"
      ]
     },
     "execution_count": 22,
     "metadata": {},
     "output_type": "execute_result"
    }
   ],
   "source": [
    "data.head()"
   ]
  },
  {
   "cell_type": "code",
   "execution_count": 23,
   "id": "cb75585f-2add-42bd-bc75-1f6c5226f91b",
   "metadata": {},
   "outputs": [
    {
     "data": {
      "text/plain": [
       "Rank                        0.000000\n",
       "NCT Number                  0.000000\n",
       "Title                       0.000000\n",
       "Acronym                     0.000000\n",
       "Status                      0.000000\n",
       "Study Results               0.000000\n",
       "Conditions                  0.000000\n",
       "Interventions              15.320768\n",
       "Outcome Measures            0.605222\n",
       "Sponsor/Collaborators       0.000000\n",
       "Gender                      0.172921\n",
       "Age                         0.000000\n",
       "Phases                     42.555767\n",
       "Enrollment                  0.587930\n",
       "Funded Bys                  0.000000\n",
       "Study Type                  0.000000\n",
       "Study Designs               0.605222\n",
       "Other IDs                   0.017292\n",
       "Start Date                  0.587930\n",
       "Primary Completion Date     0.622514\n",
       "Completion Date             0.622514\n",
       "First Posted                0.000000\n",
       "Results First Posted       99.377486\n",
       "Last Update Posted          0.000000\n",
       "Locations                  10.115857\n",
       "Study Documents            96.852845\n",
       "URL                         0.000000\n",
       "Country                     0.000000\n",
       "dtype: float64"
      ]
     },
     "execution_count": 23,
     "metadata": {},
     "output_type": "execute_result"
    }
   ],
   "source": [
    "data.isnull().mean()*100"
   ]
  },
  {
   "cell_type": "code",
   "execution_count": 24,
   "id": "2b38bc2e-06d2-4d3b-8f02-d15fa6028a3a",
   "metadata": {},
   "outputs": [],
   "source": [
    "#impute interventions,phases, locations by missing category\n",
    "categorical_features = data.select_dtypes(include = object).columns"
   ]
  },
  {
   "cell_type": "code",
   "execution_count": 25,
   "id": "f01ccdff-eafc-4f97-8649-86c235855557",
   "metadata": {},
   "outputs": [],
   "source": [
    "features = categorical_features[data[categorical_features].isnull().mean()>0]"
   ]
  },
  {
   "cell_type": "code",
   "execution_count": 26,
   "id": "91c7e674-aadb-45af-b4a9-ace3e65b5ff6",
   "metadata": {},
   "outputs": [],
   "source": [
    "for i in features :\n",
    "    data[i] = data[i].fillna(f\"Missing {i}\")"
   ]
  },
  {
   "cell_type": "code",
   "execution_count": 27,
   "id": "dc7ae941-62ec-4120-b813-31b0927622ec",
   "metadata": {},
   "outputs": [
    {
     "data": {
      "text/plain": [
       "Index(['NCT Number', 'Title', 'Acronym', 'Status', 'Study Results',\n",
       "       'Conditions', 'Interventions', 'Outcome Measures',\n",
       "       'Sponsor/Collaborators', 'Gender', 'Age', 'Phases', 'Funded Bys',\n",
       "       'Study Type', 'Study Designs', 'Other IDs', 'Start Date',\n",
       "       'Primary Completion Date', 'Completion Date', 'First Posted',\n",
       "       'Results First Posted', 'Last Update Posted', 'Locations',\n",
       "       'Study Documents', 'URL', 'Country'],\n",
       "      dtype='object')"
      ]
     },
     "execution_count": 27,
     "metadata": {},
     "output_type": "execute_result"
    }
   ],
   "source": [
    "categorical_features"
   ]
  },
  {
   "cell_type": "code",
   "execution_count": 28,
   "id": "f5e84262-bffd-4c75-89d2-069d030cc426",
   "metadata": {},
   "outputs": [
    {
     "data": {
      "text/plain": [
       "0          All\n",
       "1          All\n",
       "2          All\n",
       "3          All\n",
       "4       Female\n",
       "         ...  \n",
       "5778       All\n",
       "5779       All\n",
       "5780       All\n",
       "5781       All\n",
       "5782       All\n",
       "Name: Gender, Length: 5783, dtype: object"
      ]
     },
     "execution_count": 28,
     "metadata": {},
     "output_type": "execute_result"
    }
   ],
   "source": [
    "data['Gender']"
   ]
  },
  {
   "cell_type": "code",
   "execution_count": 29,
   "id": "18a97640-5520-4a15-93c5-855411dab858",
   "metadata": {},
   "outputs": [
    {
     "data": {
      "text/plain": [
       "Rank                       0.00000\n",
       "NCT Number                 0.00000\n",
       "Title                      0.00000\n",
       "Acronym                    0.00000\n",
       "Status                     0.00000\n",
       "Study Results              0.00000\n",
       "Conditions                 0.00000\n",
       "Interventions              0.00000\n",
       "Outcome Measures           0.00000\n",
       "Sponsor/Collaborators      0.00000\n",
       "Gender                     0.00000\n",
       "Age                        0.00000\n",
       "Phases                     0.00000\n",
       "Enrollment                 0.58793\n",
       "Funded Bys                 0.00000\n",
       "Study Type                 0.00000\n",
       "Study Designs              0.00000\n",
       "Other IDs                  0.00000\n",
       "Start Date                 0.00000\n",
       "Primary Completion Date    0.00000\n",
       "Completion Date            0.00000\n",
       "First Posted               0.00000\n",
       "Results First Posted       0.00000\n",
       "Last Update Posted         0.00000\n",
       "Locations                  0.00000\n",
       "Study Documents            0.00000\n",
       "URL                        0.00000\n",
       "Country                    0.00000\n",
       "dtype: float64"
      ]
     },
     "execution_count": 29,
     "metadata": {},
     "output_type": "execute_result"
    }
   ],
   "source": [
    "data.isnull().mean()*100"
   ]
  },
  {
   "cell_type": "code",
   "execution_count": 30,
   "id": "27721c87-bf41-41b7-b2fb-72ed9f47b114",
   "metadata": {},
   "outputs": [
    {
     "data": {
      "text/html": [
       "<div>\n",
       "<style scoped>\n",
       "    .dataframe tbody tr th:only-of-type {\n",
       "        vertical-align: middle;\n",
       "    }\n",
       "\n",
       "    .dataframe tbody tr th {\n",
       "        vertical-align: top;\n",
       "    }\n",
       "\n",
       "    .dataframe thead th {\n",
       "        text-align: right;\n",
       "    }\n",
       "</style>\n",
       "<table border=\"1\" class=\"dataframe\">\n",
       "  <thead>\n",
       "    <tr style=\"text-align: right;\">\n",
       "      <th></th>\n",
       "      <th>Rank</th>\n",
       "      <th>NCT Number</th>\n",
       "      <th>Title</th>\n",
       "      <th>Acronym</th>\n",
       "      <th>Status</th>\n",
       "      <th>Study Results</th>\n",
       "      <th>Conditions</th>\n",
       "      <th>Interventions</th>\n",
       "      <th>Outcome Measures</th>\n",
       "      <th>Sponsor/Collaborators</th>\n",
       "      <th>...</th>\n",
       "      <th>Start Date</th>\n",
       "      <th>Primary Completion Date</th>\n",
       "      <th>Completion Date</th>\n",
       "      <th>First Posted</th>\n",
       "      <th>Results First Posted</th>\n",
       "      <th>Last Update Posted</th>\n",
       "      <th>Locations</th>\n",
       "      <th>Study Documents</th>\n",
       "      <th>URL</th>\n",
       "      <th>Country</th>\n",
       "    </tr>\n",
       "  </thead>\n",
       "  <tbody>\n",
       "    <tr>\n",
       "      <th>0</th>\n",
       "      <td>1</td>\n",
       "      <td>NCT04785898</td>\n",
       "      <td>Diagnostic Performance of the ID Now™ COVID-19...</td>\n",
       "      <td>COVID-IDNow</td>\n",
       "      <td>Active, not recruiting</td>\n",
       "      <td>No Results Available</td>\n",
       "      <td>Covid19</td>\n",
       "      <td>Diagnostic Test: ID Now™ COVID-19 Screening Test</td>\n",
       "      <td>Evaluate the diagnostic performance of the ID ...</td>\n",
       "      <td>Groupe Hospitalier Paris Saint Joseph</td>\n",
       "      <td>...</td>\n",
       "      <td>November 9, 2020</td>\n",
       "      <td>December 22, 2020</td>\n",
       "      <td>April 30, 2021</td>\n",
       "      <td>March 8, 2021</td>\n",
       "      <td>Missing Results First Posted</td>\n",
       "      <td>March 8, 2021</td>\n",
       "      <td>Groupe Hospitalier Paris Saint-Joseph, Paris, ...</td>\n",
       "      <td>Missing Study Documents</td>\n",
       "      <td>https://ClinicalTrials.gov/show/NCT04785898</td>\n",
       "      <td>France</td>\n",
       "    </tr>\n",
       "    <tr>\n",
       "      <th>1</th>\n",
       "      <td>2</td>\n",
       "      <td>NCT04595136</td>\n",
       "      <td>Study to Evaluate the Efficacy of COVID19-0001...</td>\n",
       "      <td>COVID-19</td>\n",
       "      <td>Not yet recruiting</td>\n",
       "      <td>No Results Available</td>\n",
       "      <td>SARS-CoV-2 Infection</td>\n",
       "      <td>Drug: Drug COVID19-0001-USR|Drug: normal saline</td>\n",
       "      <td>Change on viral load results from baseline aft...</td>\n",
       "      <td>United Medical Specialties</td>\n",
       "      <td>...</td>\n",
       "      <td>November 2, 2020</td>\n",
       "      <td>December 15, 2020</td>\n",
       "      <td>January 29, 2021</td>\n",
       "      <td>October 20, 2020</td>\n",
       "      <td>Missing Results First Posted</td>\n",
       "      <td>October 20, 2020</td>\n",
       "      <td>Cimedical, Barranquilla, Atlantico, Colombia</td>\n",
       "      <td>Missing Study Documents</td>\n",
       "      <td>https://ClinicalTrials.gov/show/NCT04595136</td>\n",
       "      <td>Colombia</td>\n",
       "    </tr>\n",
       "    <tr>\n",
       "      <th>2</th>\n",
       "      <td>3</td>\n",
       "      <td>NCT04395482</td>\n",
       "      <td>Lung CT Scan Analysis of SARS-CoV2 Induced Lun...</td>\n",
       "      <td>TAC-COVID19</td>\n",
       "      <td>Recruiting</td>\n",
       "      <td>No Results Available</td>\n",
       "      <td>covid19</td>\n",
       "      <td>Other: Lung CT scan analysis in COVID-19 patients</td>\n",
       "      <td>A qualitative analysis of parenchymal lung dam...</td>\n",
       "      <td>University of Milano Bicocca</td>\n",
       "      <td>...</td>\n",
       "      <td>May 7, 2020</td>\n",
       "      <td>June 15, 2021</td>\n",
       "      <td>June 15, 2021</td>\n",
       "      <td>May 20, 2020</td>\n",
       "      <td>Missing Results First Posted</td>\n",
       "      <td>November 9, 2020</td>\n",
       "      <td>Ospedale Papa Giovanni XXIII, Bergamo, Italy|P...</td>\n",
       "      <td>Missing Study Documents</td>\n",
       "      <td>https://ClinicalTrials.gov/show/NCT04395482</td>\n",
       "      <td>San Marino</td>\n",
       "    </tr>\n",
       "    <tr>\n",
       "      <th>3</th>\n",
       "      <td>4</td>\n",
       "      <td>NCT04416061</td>\n",
       "      <td>The Role of a Private Hospital in Hong Kong Am...</td>\n",
       "      <td>COVID-19</td>\n",
       "      <td>Active, not recruiting</td>\n",
       "      <td>No Results Available</td>\n",
       "      <td>COVID</td>\n",
       "      <td>Diagnostic Test: COVID 19 Diagnostic Test</td>\n",
       "      <td>Proportion of asymptomatic subjects|Proportion...</td>\n",
       "      <td>Hong Kong Sanatorium &amp; Hospital</td>\n",
       "      <td>...</td>\n",
       "      <td>May 25, 2020</td>\n",
       "      <td>July 31, 2020</td>\n",
       "      <td>August 31, 2020</td>\n",
       "      <td>June 4, 2020</td>\n",
       "      <td>Missing Results First Posted</td>\n",
       "      <td>June 4, 2020</td>\n",
       "      <td>Hong Kong Sanatorium &amp; Hospital, Hong Kong, Ho...</td>\n",
       "      <td>Missing Study Documents</td>\n",
       "      <td>https://ClinicalTrials.gov/show/NCT04416061</td>\n",
       "      <td>Hong Kong</td>\n",
       "    </tr>\n",
       "    <tr>\n",
       "      <th>4</th>\n",
       "      <td>5</td>\n",
       "      <td>NCT04395924</td>\n",
       "      <td>Maternal-foetal Transmission of SARS-Cov-2</td>\n",
       "      <td>TMF-COVID-19</td>\n",
       "      <td>Recruiting</td>\n",
       "      <td>No Results Available</td>\n",
       "      <td>Maternal Fetal Infection Transmission|COVID-19...</td>\n",
       "      <td>Diagnostic Test: Diagnosis of SARS-Cov2 by RT-...</td>\n",
       "      <td>COVID-19 by positive PCR in cord blood and / o...</td>\n",
       "      <td>Centre Hospitalier Régional d'Orléans|Centre d...</td>\n",
       "      <td>...</td>\n",
       "      <td>May 5, 2020</td>\n",
       "      <td>May 2021</td>\n",
       "      <td>May 2021</td>\n",
       "      <td>May 20, 2020</td>\n",
       "      <td>Missing Results First Posted</td>\n",
       "      <td>June 4, 2020</td>\n",
       "      <td>CHR Orléans, Orléans, France</td>\n",
       "      <td>Missing Study Documents</td>\n",
       "      <td>https://ClinicalTrials.gov/show/NCT04395924</td>\n",
       "      <td>France</td>\n",
       "    </tr>\n",
       "  </tbody>\n",
       "</table>\n",
       "<p>5 rows × 28 columns</p>\n",
       "</div>"
      ],
      "text/plain": [
       "   Rank   NCT Number                                              Title  \\\n",
       "0     1  NCT04785898  Diagnostic Performance of the ID Now™ COVID-19...   \n",
       "1     2  NCT04595136  Study to Evaluate the Efficacy of COVID19-0001...   \n",
       "2     3  NCT04395482  Lung CT Scan Analysis of SARS-CoV2 Induced Lun...   \n",
       "3     4  NCT04416061  The Role of a Private Hospital in Hong Kong Am...   \n",
       "4     5  NCT04395924         Maternal-foetal Transmission of SARS-Cov-2   \n",
       "\n",
       "        Acronym                  Status         Study Results  \\\n",
       "0   COVID-IDNow  Active, not recruiting  No Results Available   \n",
       "1      COVID-19      Not yet recruiting  No Results Available   \n",
       "2   TAC-COVID19              Recruiting  No Results Available   \n",
       "3      COVID-19  Active, not recruiting  No Results Available   \n",
       "4  TMF-COVID-19              Recruiting  No Results Available   \n",
       "\n",
       "                                          Conditions  \\\n",
       "0                                            Covid19   \n",
       "1                               SARS-CoV-2 Infection   \n",
       "2                                            covid19   \n",
       "3                                              COVID   \n",
       "4  Maternal Fetal Infection Transmission|COVID-19...   \n",
       "\n",
       "                                       Interventions  \\\n",
       "0   Diagnostic Test: ID Now™ COVID-19 Screening Test   \n",
       "1    Drug: Drug COVID19-0001-USR|Drug: normal saline   \n",
       "2  Other: Lung CT scan analysis in COVID-19 patients   \n",
       "3          Diagnostic Test: COVID 19 Diagnostic Test   \n",
       "4  Diagnostic Test: Diagnosis of SARS-Cov2 by RT-...   \n",
       "\n",
       "                                    Outcome Measures  \\\n",
       "0  Evaluate the diagnostic performance of the ID ...   \n",
       "1  Change on viral load results from baseline aft...   \n",
       "2  A qualitative analysis of parenchymal lung dam...   \n",
       "3  Proportion of asymptomatic subjects|Proportion...   \n",
       "4  COVID-19 by positive PCR in cord blood and / o...   \n",
       "\n",
       "                               Sponsor/Collaborators  ...        Start Date  \\\n",
       "0              Groupe Hospitalier Paris Saint Joseph  ...  November 9, 2020   \n",
       "1                         United Medical Specialties  ...  November 2, 2020   \n",
       "2                       University of Milano Bicocca  ...       May 7, 2020   \n",
       "3                    Hong Kong Sanatorium & Hospital  ...      May 25, 2020   \n",
       "4  Centre Hospitalier Régional d'Orléans|Centre d...  ...       May 5, 2020   \n",
       "\n",
       "  Primary Completion Date   Completion Date      First Posted  \\\n",
       "0       December 22, 2020    April 30, 2021     March 8, 2021   \n",
       "1       December 15, 2020  January 29, 2021  October 20, 2020   \n",
       "2           June 15, 2021     June 15, 2021      May 20, 2020   \n",
       "3           July 31, 2020   August 31, 2020      June 4, 2020   \n",
       "4                May 2021          May 2021      May 20, 2020   \n",
       "\n",
       "           Results First Posted Last Update Posted  \\\n",
       "0  Missing Results First Posted      March 8, 2021   \n",
       "1  Missing Results First Posted   October 20, 2020   \n",
       "2  Missing Results First Posted   November 9, 2020   \n",
       "3  Missing Results First Posted       June 4, 2020   \n",
       "4  Missing Results First Posted       June 4, 2020   \n",
       "\n",
       "                                           Locations          Study Documents  \\\n",
       "0  Groupe Hospitalier Paris Saint-Joseph, Paris, ...  Missing Study Documents   \n",
       "1       Cimedical, Barranquilla, Atlantico, Colombia  Missing Study Documents   \n",
       "2  Ospedale Papa Giovanni XXIII, Bergamo, Italy|P...  Missing Study Documents   \n",
       "3  Hong Kong Sanatorium & Hospital, Hong Kong, Ho...  Missing Study Documents   \n",
       "4                       CHR Orléans, Orléans, France  Missing Study Documents   \n",
       "\n",
       "                                           URL      Country  \n",
       "0  https://ClinicalTrials.gov/show/NCT04785898       France  \n",
       "1  https://ClinicalTrials.gov/show/NCT04595136     Colombia  \n",
       "2  https://ClinicalTrials.gov/show/NCT04395482   San Marino  \n",
       "3  https://ClinicalTrials.gov/show/NCT04416061    Hong Kong  \n",
       "4  https://ClinicalTrials.gov/show/NCT04395924       France  \n",
       "\n",
       "[5 rows x 28 columns]"
      ]
     },
     "execution_count": 30,
     "metadata": {},
     "output_type": "execute_result"
    }
   ],
   "source": [
    "data.head()"
   ]
  },
  {
   "cell_type": "code",
   "execution_count": 31,
   "id": "bb59f3df-dff6-4e00-bbeb-77eda1070df1",
   "metadata": {},
   "outputs": [],
   "source": [
    "# now will handle the missing data for enrollment"
   ]
  },
  {
   "cell_type": "code",
   "execution_count": 32,
   "id": "8d6f7ada-122b-4747-aaf8-71f86fe0c6a0",
   "metadata": {},
   "outputs": [],
   "source": [
    "# as we have somemissing values in enrollment column then we will find skewness so that we will understand how the data i distributed"
   ]
  },
  {
   "cell_type": "code",
   "execution_count": 33,
   "id": "35786be5-6332-47fa-bf0f-2e68e1c0d777",
   "metadata": {},
   "outputs": [
    {
     "data": {
      "text/plain": [
       "34.06593382031148"
      ]
     },
     "execution_count": 33,
     "metadata": {},
     "output_type": "execute_result"
    }
   ],
   "source": [
    "data.Enrollment.skew()"
   ]
  },
  {
   "cell_type": "code",
   "execution_count": 34,
   "id": "8775d471-6591-4490-a68d-336b4655db47",
   "metadata": {},
   "outputs": [
    {
     "data": {
      "text/plain": [
       "<Axes: ylabel='Density'>"
      ]
     },
     "execution_count": 34,
     "metadata": {},
     "output_type": "execute_result"
    },
    {
     "data": {
      "image/png": "[encoded data removed]",
      "text/plain": [
       "<Figure size 640x480 with 1 Axes>"
      ]
     },
     "metadata": {},
     "output_type": "display_data"
    }
   ],
   "source": [
    "#by the value we will know that feature isn't normally distrubuted\n",
    "data.Enrollment.plot(kind = 'kde')"
   ]
  },
  {
   "cell_type": "code",
   "execution_count": 35,
   "id": "5b7e9140-a56b-4ae5-91a7-4d0f58cb223f",
   "metadata": {},
   "outputs": [
    {
     "name": "stdout",
     "output_type": "stream",
     "text": [
      "The min value is 0.0, The max value is 20000000.0,The mean value is18319.48860671421,The median value is170.0,The std value is404543.7287841073\n"
     ]
    }
   ],
   "source": [
    "min_value = data.Enrollment.min()\n",
    "max_value = data.Enrollment.max()\n",
    "mean_value = data.Enrollment.mean()\n",
    "median_value = data.Enrollment.median()\n",
    "std_value = data.Enrollment.std()\n",
    "\n",
    "print(f\"The min value is {min_value}, The max value is {max_value},The mean value is{mean_value},The median value is{median_value},The std value is{std_value}\")"
   ]
  },
  {
   "cell_type": "code",
   "execution_count": 36,
   "id": "957cc5ee-d6e9-4151-81e0-8a15236f8a3f",
   "metadata": {},
   "outputs": [],
   "source": [
    "#as we know there is some skewness present then we will fill the values by median values in Enrollment values"
   ]
  },
  {
   "cell_type": "code",
   "execution_count": 37,
   "id": "d10f011f-8b0b-4a30-8368-214c4d0b594a",
   "metadata": {},
   "outputs": [],
   "source": [
    "data.Enrollment = data.Enrollment.fillna(median_value)"
   ]
  },
  {
   "cell_type": "code",
   "execution_count": 38,
   "id": "252e4624-6d1c-4029-b9c4-807ae3988e3d",
   "metadata": {},
   "outputs": [
    {
     "data": {
      "text/plain": [
       "0       1000.0\n",
       "1         60.0\n",
       "2        500.0\n",
       "3       2500.0\n",
       "4         50.0\n",
       "         ...  \n",
       "5778     566.0\n",
       "5779     200.0\n",
       "5780      88.0\n",
       "5781     396.0\n",
       "5782     716.0\n",
       "Name: Enrollment, Length: 5783, dtype: float64"
      ]
     },
     "execution_count": 38,
     "metadata": {},
     "output_type": "execute_result"
    }
   ],
   "source": [
    "data['Enrollment']"
   ]
  },
  {
   "cell_type": "code",
   "execution_count": 39,
   "id": "675b4301-1b3f-41de-ad99-f6cff6e5cef4",
   "metadata": {},
   "outputs": [
    {
     "data": {
      "text/plain": [
       "Rank                       0.0\n",
       "NCT Number                 0.0\n",
       "Title                      0.0\n",
       "Acronym                    0.0\n",
       "Status                     0.0\n",
       "Study Results              0.0\n",
       "Conditions                 0.0\n",
       "Interventions              0.0\n",
       "Outcome Measures           0.0\n",
       "Sponsor/Collaborators      0.0\n",
       "Gender                     0.0\n",
       "Age                        0.0\n",
       "Phases                     0.0\n",
       "Enrollment                 0.0\n",
       "Funded Bys                 0.0\n",
       "Study Type                 0.0\n",
       "Study Designs              0.0\n",
       "Other IDs                  0.0\n",
       "Start Date                 0.0\n",
       "Primary Completion Date    0.0\n",
       "Completion Date            0.0\n",
       "First Posted               0.0\n",
       "Results First Posted       0.0\n",
       "Last Update Posted         0.0\n",
       "Locations                  0.0\n",
       "Study Documents            0.0\n",
       "URL                        0.0\n",
       "Country                    0.0\n",
       "dtype: float64"
      ]
     },
     "execution_count": 39,
     "metadata": {},
     "output_type": "execute_result"
    }
   ],
   "source": [
    "data.isnull().mean()*100"
   ]
  },
  {
   "cell_type": "code",
   "execution_count": 40,
   "id": "3ab7fbed-ca2f-462a-ab3e-744a87b43014",
   "metadata": {},
   "outputs": [],
   "source": [
    "#highest countries with highest contribution\n",
    "\n",
    "top_10_countries = data.Country.value_counts()[:10]"
   ]
  },
  {
   "cell_type": "code",
   "execution_count": 41,
   "id": "d6b7b3b8-a91a-46c8-92c3-2e342d6b30fd",
   "metadata": {},
   "outputs": [
    {
     "name": "stderr",
     "output_type": "stream",
     "text": [
      "C:\\Users\\DELL\\AppData\\Local\\Temp\\ipykernel_19508\\761913046.py:1: FutureWarning: \n",
      "\n",
      "Passing `palette` without assigning `hue` is deprecated and will be removed in v0.14.0. Assign the `x` variable to `hue` and set `legend=False` for the same effect.\n",
      "\n",
      "  sns.barplot(top_10_countries,palette = 'rocket')\n"
     ]
    },
    {
     "data": {
      "image/png": "[encoded data removed]",
      "text/plain": [
       "<Figure size 640x480 with 1 Axes>"
      ]
     },
     "metadata": {},
     "output_type": "display_data"
    }
   ],
   "source": [
    "sns.barplot(top_10_countries,palette = 'rocket')\n",
    "plt.xlabel(\"Countries\")\n",
    "plt.ylabel(\"Contribution\")\n",
    "plt.title(\"Top 10 Countries with Contributions\")\n",
    "plt.xticks(rotation = 45)\n",
    "plt.show()"
   ]
  },
  {
   "cell_type": "code",
   "execution_count": 42,
   "id": "88a1eb06-dc74-496d-af9b-d0026e5ad68e",
   "metadata": {},
   "outputs": [
    {
     "data": {
      "text/plain": [
       "Status\n",
       "Recruiting                   2805\n",
       "Completed                    1025\n",
       "Not yet recruiting           1004\n",
       "Active, not recruiting        526\n",
       "Enrolling by invitation       181\n",
       "Withdrawn                     107\n",
       "Terminated                     74\n",
       "Suspended                      27\n",
       "Available                      19\n",
       "No longer available            12\n",
       "Approved for marketing          2\n",
       "Temporarily not available       1\n",
       "Name: count, dtype: int64"
      ]
     },
     "execution_count": 42,
     "metadata": {},
     "output_type": "execute_result"
    }
   ],
   "source": [
    "#application status\n",
    "status = data.Status.value_counts()\n",
    "status"
   ]
  },
  {
   "cell_type": "code",
   "execution_count": 43,
   "id": "feb36028-9119-40e7-9be9-795d5992a16c",
   "metadata": {},
   "outputs": [
    {
     "name": "stderr",
     "output_type": "stream",
     "text": [
      "C:\\Users\\DELL\\AppData\\Local\\Temp\\ipykernel_19508\\2682478037.py:1: FutureWarning: \n",
      "\n",
      "Passing `palette` without assigning `hue` is deprecated and will be removed in v0.14.0. Assign the `x` variable to `hue` and set `legend=False` for the same effect.\n",
      "\n",
      "  sns.barplot(status,palette = 'rocket')\n"
     ]
    },
    {
     "data": {
      "image/png": "[encoded data removed]",
      "text/plain": [
       "<Figure size 640x480 with 1 Axes>"
      ]
     },
     "metadata": {},
     "output_type": "display_data"
    }
   ],
   "source": [
    "sns.barplot(status,palette = 'rocket')\n",
    "plt.xlabel('Status')\n",
    "plt.ylabel('Count')\n",
    "plt.title('Application Status')\n",
    "plt.xticks(rotation = 90)\n",
    "plt.show()"
   ]
  },
  {
   "cell_type": "code",
   "execution_count": 44,
   "id": "d85e42c0-e563-467f-9c63-d08af58ec2a4",
   "metadata": {},
   "outputs": [
    {
     "data": {
      "text/plain": [
       "Gender\n",
       "All               5567\n",
       "Female             162\n",
       "Male                44\n",
       "Missing Gender      10\n",
       "Name: count, dtype: int64"
      ]
     },
     "execution_count": 44,
     "metadata": {},
     "output_type": "execute_result"
    }
   ],
   "source": [
    "gender = data.Gender.value_counts()\n",
    "gender"
   ]
  },
  {
   "cell_type": "code",
   "execution_count": 45,
   "id": "60139aef-5e86-4d83-b880-e1813a7452a7",
   "metadata": {},
   "outputs": [
    {
     "name": "stderr",
     "output_type": "stream",
     "text": [
      "C:\\Users\\DELL\\AppData\\Local\\Temp\\ipykernel_19508\\1321182757.py:1: FutureWarning: \n",
      "\n",
      "Passing `palette` without assigning `hue` is deprecated and will be removed in v0.14.0. Assign the `x` variable to `hue` and set `legend=False` for the same effect.\n",
      "\n",
      "  sns.barplot(gender,palette = 'viridis')\n"
     ]
    },
    {
     "data": {
      "text/plain": [
       "<Axes: xlabel='Gender', ylabel='count'>"
      ]
     },
     "execution_count": 45,
     "metadata": {},
     "output_type": "execute_result"
    },
    {
     "data": {
      "image/png": "[encoded data removed]",
      "text/plain": [
       "<Figure size 640x480 with 1 Axes>"
      ]
     },
     "metadata": {},
     "output_type": "display_data"
    }
   ],
   "source": [
    "sns.barplot(gender,palette = 'viridis')"
   ]
  },
  {
   "cell_type": "code",
   "execution_count": 46,
   "id": "ab3a4f3a-6a45-4237-bda6-76292e78bd3a",
   "metadata": {},
   "outputs": [
    {
     "data": {
      "text/plain": [
       "0          All\n",
       "1          All\n",
       "2          All\n",
       "3          All\n",
       "4       Female\n",
       "         ...  \n",
       "5778       All\n",
       "5779       All\n",
       "5780       All\n",
       "5781       All\n",
       "5782       All\n",
       "Name: Gender, Length: 5783, dtype: object"
      ]
     },
     "execution_count": 46,
     "metadata": {},
     "output_type": "execute_result"
    }
   ],
   "source": [
    "data['Gender']"
   ]
  },
  {
   "cell_type": "code",
   "execution_count": 47,
   "id": "1de01509-bf66-4211-b5c4-0a24a39126ed",
   "metadata": {},
   "outputs": [
    {
     "data": {
      "text/plain": [
       "Study Type\n",
       "Interventional                                                         3322\n",
       "Observational                                                          2427\n",
       "Expanded Access:Intermediate-size Population                             15\n",
       "Expanded Access:Treatment IND/Protocol                                    8\n",
       "Expanded Access:Intermediate-size Population|Treatment IND/Protocol       5\n",
       "Expanded Access:Individual Patients                                       3\n",
       "Expanded Access:Individual Patients|Intermediate-size Population          1\n",
       "Expanded Access                                                           1\n",
       "Expanded Access:Individual Patients|Treatment IND/Protocol                1\n",
       "Name: count, dtype: int64"
      ]
     },
     "execution_count": 47,
     "metadata": {},
     "output_type": "execute_result"
    }
   ],
   "source": [
    "data['Study Type'].value_counts()"
   ]
  },
  {
   "cell_type": "code",
   "execution_count": 48,
   "id": "282c52de-2dce-4cfb-b46e-869fd8d70aef",
   "metadata": {},
   "outputs": [
    {
     "name": "stderr",
     "output_type": "stream",
     "text": [
      "C:\\Users\\DELL\\AppData\\Local\\Temp\\ipykernel_19508\\2526162889.py:1: FutureWarning: \n",
      "\n",
      "Passing `palette` without assigning `hue` is deprecated and will be removed in v0.14.0. Assign the `y` variable to `hue` and set `legend=False` for the same effect.\n",
      "\n",
      "  sns.barplot(data['Study Type'],palette = 'rocket')\n"
     ]
    },
    {
     "data": {
      "text/plain": [
       "<Axes: ylabel='Study Type'>"
      ]
     },
     "execution_count": 48,
     "metadata": {},
     "output_type": "execute_result"
    },
    {
     "data": {
      "image/png": "[encoded data removed]",
      "text/plain": [
       "<Figure size 640x480 with 1 Axes>"
      ]
     },
     "metadata": {},
     "output_type": "display_data"
    }
   ],
   "source": [
    "sns.barplot(data['Study Type'],palette = 'rocket')"
   ]
  },
  {
   "cell_type": "code",
   "execution_count": 49,
   "id": "45c0a8c0-b398-45af-8412-36639c8f0194",
   "metadata": {},
   "outputs": [],
   "source": [
    "#phases of studies"
   ]
  },
  {
   "cell_type": "code",
   "execution_count": 50,
   "id": "3d322e12-cfc0-4cf3-931a-d387246e5fd7",
   "metadata": {},
   "outputs": [
    {
     "data": {
      "text/plain": [
       "Text(0.5, 1.0, 'Phases of Study')"
      ]
     },
     "execution_count": 50,
     "metadata": {},
     "output_type": "execute_result"
    },
    {
     "data": {
      "image/png": "[encoded data removed]",
      "text/plain": [
       "<Figure size 600x600 with 1 Axes>"
      ]
     },
     "metadata": {},
     "output_type": "display_data"
    }
   ],
   "source": [
    "plt.figure(figsize = (6,6))\n",
    "plt.pie(data['Phases'].value_counts().drop('Not Applicable').values,labels = data['Phases'].value_counts().drop('Not Applicable').index,autopct = '%1.1f%%')\n",
    "plt.title('Phases of Study')"
   ]
  },
  {
   "cell_type": "code",
   "execution_count": null,
   "id": "a9019e08-c355-4f31-b39d-46b3d29565d0",
   "metadata": {},
   "outputs": [],
   "source": []
  }
 ],
 "metadata": {
  "kernelspec": {
   "display_name": "Python [conda env:base] *",
   "language": "python",
   "name": "conda-base-py"
  },
  "language_info": {
   "codemirror_mode": {
    "name": "ipython",
    "version": 3
   },
   "file_extension": ".py",
   "mimetype": "text/x-python",
   "name": "python",
   "nbconvert_exporter": "python",
   "pygments_lexer": "ipython3",
   "version": "3.12.7"
  }
 },
 "nbformat": 4,
 "nbformat_minor": 5
}
